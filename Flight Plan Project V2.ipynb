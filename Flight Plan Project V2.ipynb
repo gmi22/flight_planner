{
 "cells": [
  {
   "cell_type": "code",
   "execution_count": 1,
   "metadata": {},
   "outputs": [],
   "source": [
    "#enter waypoints\n",
    "\n",
    "way_point = ['KTME','06R','11R','CLL']"
   ]
  },
  {
   "cell_type": "code",
   "execution_count": 2,
   "metadata": {},
   "outputs": [],
   "source": [
    "#enter distance between waypoints\n",
    "distance = [20,17,22]"
   ]
  },
  {
   "cell_type": "code",
   "execution_count": 3,
   "metadata": {},
   "outputs": [],
   "source": [
    "#enter true course between waypoints\n",
    "true_course = [292,293,359]"
   ]
  },
  {
   "cell_type": "code",
   "execution_count": 4,
   "metadata": {},
   "outputs": [],
   "source": [
    "#enter winde direction between waypoints\n",
    "wind_dr=[220,220,220]"
   ]
  },
  {
   "cell_type": "code",
   "execution_count": 5,
   "metadata": {},
   "outputs": [],
   "source": [
    "#enter winde speed between waypoints\n",
    "wind_spd = [5,5,5]"
   ]
  },
  {
   "cell_type": "code",
   "execution_count": 6,
   "metadata": {},
   "outputs": [],
   "source": [
    "#enter magnetic variation between waypoints\n",
    "mag_var = [-4,-4,-4]"
   ]
  },
  {
   "cell_type": "code",
   "execution_count": 7,
   "metadata": {},
   "outputs": [],
   "source": [
    "#enter compass variation between waypoints\n",
    "comp_var = [1,1,1]"
   ]
  },
  {
   "cell_type": "code",
   "execution_count": 8,
   "metadata": {},
   "outputs": [],
   "source": [
    "#enter gallons per hour \n",
    "gph = 8"
   ]
  },
  {
   "cell_type": "code",
   "execution_count": 9,
   "metadata": {},
   "outputs": [],
   "source": [
    "#enter total fuel amount in gallons\n",
    "fuel = 48"
   ]
  },
  {
   "cell_type": "code",
   "execution_count": 10,
   "metadata": {},
   "outputs": [],
   "source": [
    "# enter true airspeed\n",
    "tas = 110"
   ]
  },
  {
   "cell_type": "code",
   "execution_count": 11,
   "metadata": {},
   "outputs": [],
   "source": [
    "# enter altitude for each waypoint\n",
    "alt = [4500,4500,4500]"
   ]
  },
  {
   "cell_type": "code",
   "execution_count": 12,
   "metadata": {},
   "outputs": [],
   "source": [
    "import math"
   ]
  },
  {
   "cell_type": "code",
   "execution_count": 13,
   "metadata": {},
   "outputs": [],
   "source": [
    "import xlwt"
   ]
  },
  {
   "cell_type": "code",
   "execution_count": 14,
   "metadata": {},
   "outputs": [],
   "source": [
    "header = ['Way Point','True Course','Wind Direction','Wind Speed','Wind Correction','Magnetic Variance','Compass Variance','Magnetic Course','Altitude','Fuel Used','Distance','Ground Speed','ETE']"
   ]
  },
  {
   "cell_type": "code",
   "execution_count": 15,
   "metadata": {},
   "outputs": [],
   "source": [
    "wb = xlwt.Workbook()"
   ]
  },
  {
   "cell_type": "code",
   "execution_count": 16,
   "metadata": {},
   "outputs": [],
   "source": [
    "ws = wb.add_sheet('Flight Plan')"
   ]
  },
  {
   "cell_type": "code",
   "execution_count": 17,
   "metadata": {},
   "outputs": [],
   "source": [
    "wind_correct_out = []\n",
    "\n",
    "for i in range(0,len(distance)):\n",
    "        wind_correct_out.append(true_course[i]+math.degrees(math.asin((wind_spd[i]/tas) * math.sin(math.radians(wind_dr[i]-true_course[i])))))"
   ]
  },
  {
   "cell_type": "code",
   "execution_count": 18,
   "metadata": {},
   "outputs": [],
   "source": [
    "mag_course_out = []\n",
    "\n",
    "for i in range(0,len(distance)):\n",
    "    mag_course_out.append((true_course[i]+math.degrees(math.asin((wind_spd[i]/tas) * math.sin(math.radians(wind_dr[i]-true_course[i])))) + (comp_var[i] + mag_var[i])))"
   ]
  },
  {
   "cell_type": "code",
   "execution_count": 19,
   "metadata": {},
   "outputs": [],
   "source": [
    "gs_out = []\n",
    "\n",
    "for i in range(0,len(distance)):\n",
    "    gs_out.append(tas*math.sqrt(1-((wind_spd[i]/tas)*math.sin(math.radians(wind_dr[i]-true_course[i])))**2)-wind_spd[i]*math.cos(math.radians(wind_dr[i]-true_course[i])))"
   ]
  },
  {
   "cell_type": "code",
   "execution_count": 20,
   "metadata": {},
   "outputs": [],
   "source": [
    "fuel_out = []\n",
    "\n",
    "for i in range(0,len(distance)):\n",
    "    fuel_out.append((distance[i]/gs_out[i])*gph)"
   ]
  },
  {
   "cell_type": "code",
   "execution_count": 21,
   "metadata": {},
   "outputs": [],
   "source": [
    "eta_out = []\n",
    "\n",
    "for i in range(0,len(distance)):\n",
    "    eta_out.append((distance[i]/gs_out[i])*60)"
   ]
  },
  {
   "cell_type": "code",
   "execution_count": 22,
   "metadata": {},
   "outputs": [],
   "source": [
    "total_dis = 0\n",
    "\n",
    "for i in range(0,len(distance)):\n",
    "    total_dis += distance[i]"
   ]
  },
  {
   "cell_type": "code",
   "execution_count": 23,
   "metadata": {},
   "outputs": [],
   "source": [
    "total_time = 0\n",
    "\n",
    "for i in range(0,len(distance)):\n",
    "    total_time += eta_out[i]"
   ]
  },
  {
   "cell_type": "code",
   "execution_count": 24,
   "metadata": {},
   "outputs": [],
   "source": [
    "# row,col,text\n",
    "\n",
    "\n",
    "row_start = 5\n",
    "\n",
    "row_start_calc = 6\n",
    "\n",
    "#for i in range(0,len(my_list)):\n",
    "    #ws.write(4, i, my_list[i])\n",
    "    \n",
    "for i in range(0,len(header)):\n",
    "    ws.write(4,i,header[i])\n",
    "    \n",
    "for i in range(0,len(way_point)):\n",
    "    ws.write( row_start + i*2 , 0 , way_point[i])\n",
    "    \n",
    "for i in range(0,len(distance)):\n",
    "    ws.write(row_start_calc + i*2,1,true_course[i])\n",
    "    ws.write(row_start_calc + i*2,2,wind_dr[i])\n",
    "    ws.write(row_start_calc + i*2,3,wind_spd[i])\n",
    "    ws.write(row_start_calc + i*2,4,wind_correct_out[i])\n",
    "    ws.write(row_start_calc + i*2,5,mag_var[i])\n",
    "    ws.write(row_start_calc + i*2,6,comp_var[i])\n",
    "    ws.write(row_start_calc + i*2,7,mag_course_out[i])\n",
    "    ws.write(row_start_calc + i*2,8,alt[i])\n",
    "    ws.write(row_start_calc + i*2,9,fuel_out[i])\n",
    "    ws.write(row_start_calc + i*2,10,distance[i])\n",
    "    ws.write(row_start_calc + i*2,11,gs_out[i])\n",
    "    ws.write(row_start_calc + i*2,12,eta_out[i])\n",
    "    \n",
    "\n"
   ]
  },
  {
   "cell_type": "code",
   "execution_count": 25,
   "metadata": {},
   "outputs": [],
   "source": [
    "wb.save('flight_plan.xls')"
   ]
  },
  {
   "cell_type": "code",
   "execution_count": null,
   "metadata": {},
   "outputs": [],
   "source": []
  }
 ],
 "metadata": {
  "kernelspec": {
   "display_name": "Python 3",
   "language": "python",
   "name": "python3"
  },
  "language_info": {
   "codemirror_mode": {
    "name": "ipython",
    "version": 3
   },
   "file_extension": ".py",
   "mimetype": "text/x-python",
   "name": "python",
   "nbconvert_exporter": "python",
   "pygments_lexer": "ipython3",
   "version": "3.7.0"
  }
 },
 "nbformat": 4,
 "nbformat_minor": 2
}
